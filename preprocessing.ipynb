{
  "nbformat": 4,
  "nbformat_minor": 0,
  "metadata": {
    "colab": {
      "name": "preprocessing.ipynb",
      "provenance": [],
      "collapsed_sections": [],
      "authorship_tag": "ABX9TyP/Cf9Onw2+lSL+vBU1xrKw",
      "include_colab_link": true
    },
    "kernelspec": {
      "name": "python3",
      "display_name": "Python 3"
    },
    "language_info": {
      "name": "python"
    },
    "accelerator": "GPU",
    "gpuClass": "standard"
  },
  "cells": [
    {
      "cell_type": "markdown",
      "metadata": {
        "id": "view-in-github",
        "colab_type": "text"
      },
      "source": [
        "<a href=\"https://colab.research.google.com/github/congthuc521/Vo_Cong_Thuc_19146272/blob/main/preprocessing.ipynb\" target=\"_parent\"><img src=\"https://colab.research.google.com/assets/colab-badge.svg\" alt=\"Open In Colab\"/></a>"
      ]
    },
    {
      "cell_type": "code",
      "execution_count": null,
      "metadata": {
        "colab": {
          "base_uri": "https://localhost:8080/"
        },
        "id": "Z3gWceBU02aW",
        "outputId": "b6adf6ff-6256-4835-824f-88d007f1bd0b"
      },
      "outputs": [
        {
          "output_type": "stream",
          "name": "stdout",
          "text": [
            "Cloning into 'MiAI_Sound_Classifier'...\n",
            "remote: Enumerating objects: 33, done.\u001b[K\n",
            "remote: Total 33 (delta 0), reused 0 (delta 0), pack-reused 33\u001b[K\n",
            "Unpacking objects: 100% (33/33), done.\n"
          ]
        }
      ],
      "source": [
        "!git clone https://github.com/thangnch/MiAI_Sound_Classifier"
      ]
    },
    {
      "cell_type": "code",
      "source": [
        "#from memory_profiler import memory_usage\n",
        "import os\n",
        "import pandas as pd\n",
        "from glob import glob\n",
        "import numpy as np\n",
        "from keras import layers\n",
        "from keras import models\n",
        "from keras.layers.advanced_activations import LeakyReLU\n",
        "from tensorflow.keras.optimizers import Adam\n",
        "import keras.backend as K\n",
        "import librosa\n",
        "import librosa.display\n",
        "import pylab\n",
        "import matplotlib.pyplot as plt\n",
        "from matplotlib import figure\n",
        "import gc\n",
        "from pathlib import Path\n",
        "from keras.layers import Dense, Activation, Flatten, Dropout, BatchNormalization\n",
        "from keras.models import Sequential, Model\n",
        "from keras.layers import Conv2D, MaxPooling2D\n",
        "from keras import regularizers, optimizers\n",
        "import pandas as pd\n",
        "import numpy as np\n",
        "from keras_preprocessing.image import ImageDataGenerator\n",
        "\n",
        "train_data_path='data/train/'\n",
        "test_data_path='data/test/'\n",
        "wav_path = 'data/wav/'\n",
        "\n",
        "# Ham tao ra spectrogram tu file wav\n",
        "def create_spectrogram(filename,name, file_path):\n",
        "    plt.interactive(False)\n",
        "    clip, sample_rate = librosa.load(filename, sr=None)\n",
        "    fig = plt.figure(figsize=[0.72,0.72])\n",
        "    ax = fig.add_subplot(111)\n",
        "    ax.axes.get_xaxis().set_visible(False)\n",
        "    ax.axes.get_yaxis().set_visible(False)\n",
        "    ax.set_frame_on(False)\n",
        "    S = librosa.feature.melspectrogram(y=clip, sr=sample_rate)\n",
        "    librosa.display.specshow(librosa.power_to_db(S, ref=np.max))\n",
        "    filename  = file_path + name + '.png'\n",
        "    plt.savefig(filename, dpi=400, bbox_inches='tight',pad_inches=0)\n",
        "    plt.close()\n",
        "    fig.clf()\n",
        "    plt.close(fig)\n",
        "    plt.close('all')\n",
        "    del filename,name,clip,sample_rate,fig,ax,S\n",
        "\n",
        "# Lap trong thu muc data/wav/train va tao ra 4000 file anh spectrogram\n",
        "Data_dir=np.array(glob(wav_path+\"train/*\"))\n",
        "\n",
        "for file in Data_dir[0:4000]:\n",
        "    filename,name = file,file.split('/')[-1].split('.')[0]\n",
        "    create_spectrogram(filename,name, train_data_path)\n",
        "\n",
        "gc.collect()\n",
        "\n",
        "# Lap trong thu muc data/wav/test va tao ra 3000 file anh spectrogram\n",
        "Test_dir=np.array(glob(wav_path+\"test/*\"))\n",
        "\n",
        "\n",
        "for file in Test_dir[0:3000]:\n",
        "    filename,name = file,file.split('/')[-1].split('.')[0]\n",
        "    create_spectrogram(filename,name,test_data_path)\n",
        "\n",
        "gc.collect()\n",
        "\n",
        "print(\"Process done!\")"
      ],
      "metadata": {
        "id": "YvNk9rNC03L0",
        "colab": {
          "base_uri": "https://localhost:8080/",
          "height": 0
        },
        "outputId": "493f38fc-fb92-4398-f0e1-49a8057a7aba"
      },
      "execution_count": 2,
      "outputs": [
        {
          "output_type": "stream",
          "name": "stdout",
          "text": [
            "Process done!\n"
          ]
        }
      ]
    },
    {
      "cell_type": "code",
      "source": [
        ""
      ],
      "metadata": {
        "id": "KlzNB97Em_ph"
      },
      "execution_count": null,
      "outputs": []
    }
  ]
}